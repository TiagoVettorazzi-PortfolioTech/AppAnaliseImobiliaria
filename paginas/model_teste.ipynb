{
 "cells": [
  {
   "cell_type": "code",
   "execution_count": 1,
   "metadata": {},
   "outputs": [],
   "source": [
    "import pandas as pd\n",
    "import os\n",
    "from sklearn.preprocessing import StandardScaler\n",
    "from sklearn.pipeline import make_pipeline\n",
    "from sklearn.compose import ColumnTransformer\n",
    "from sklearn.model_selection import train_test_split\n",
    "from xgboost import XGBRegressor"
   ]
  },
  {
   "cell_type": "code",
   "execution_count": 2,
   "metadata": {},
   "outputs": [],
   "source": [
    "\n",
    "def chamar_arquivo():\n",
    "    current_dir = os.getcwd()\n",
    "\n",
    "    # Junta o caminho para o arquivo 'arquivo.csv' (que está no diretório acima)\n",
    "    file_path = os.path.join(current_dir, '..', 'teste.csv')\n",
    "\n",
    "    # Resolve o caminho absoluto\n",
    "    file_path = os.path.abspath(file_path)\n",
    "\n",
    "    # Agora você pode ler o arquivo\n",
    "    df = pd.read_csv(file_path)\n",
    "    return df\n",
    "\n",
    "\n",
    "def tirar_outliers(df):\n",
    "    Q1 = df['preço'].quantile(0.25)\n",
    "    Q3 = df['preço'].quantile(0.75)\n",
    "    IQR = Q3 - Q1\n",
    "\n",
    "    limite_inferior = Q1 - 2 * IQR\n",
    "    limite_superior = Q3 + 2 * IQR\n",
    "    df = df[(df['preço'] >= limite_inferior) & (df['preço'] <= limite_superior)]\n",
    "    return df\n",
    "\n",
    "\n",
    "def separar_dados(df):\n",
    "    numericas = [col for col in df.columns if df[col].dtype in ['float64', 'int64'] and col not in ['preço', 'preco p/ m²']]\n",
    "    X = df[numericas]\n",
    "    y = df['preço']\n",
    "    X_train, X_test, y_train, y_test = train_test_split(X, y, test_size=0.2, random_state=42)\n",
    "\n",
    "    return X_train, X_test, y_train, y_test\n",
    "\n",
    "    "
   ]
  },
  {
   "cell_type": "code",
   "execution_count": 6,
   "metadata": {},
   "outputs": [],
   "source": [
    "def load_and_train_model():\n",
    "    df = chamar_arquivo()\n",
    "    \n",
    "    df = df.drop_duplicates()\n",
    "    df = df[df['bairro'] != 'Siqueira']\n",
    "    df = df.dropna(subset=['preço'])\n",
    "    df = df[df['condominio'] < 10000]\n",
    "    df.drop(columns=['Unnamed: 0','Unnamed: 0.1','IDH_x','IDH-Renda_x', 'IDH-Longevidade_x',\n",
    "                       'IDH-Educação_x', 'Regional_x','Regional_y','numero','Regional','preco p/ m²',\n",
    "                       'IDH-Educação','IDH','preço_cond_ratio'], inplace=True)\n",
    "    numericas = [col for col in df.columns if df[col].dtype in ['float64', 'int64'] and col not in ['preço', 'preco p/ m²']]\n",
    "    df = tirar_outliers(df)\n",
    "    X_train, X_test, y_train, y_test = separar_dados(df)\n",
    "\n",
    "    \n",
    "    best_params = {\n",
    "        'colsample_bytree': 1.0, \n",
    "        'learning_rate': 0.1, \n",
    "        'max_depth': 3, \n",
    "        'n_estimators': 500, \n",
    "        'subsample': 0.9\n",
    "    }\n",
    "    \n",
    "    preprocessor = ColumnTransformer([('num', StandardScaler(), numericas)])\n",
    "    \n",
    "    xgb_pipeline = make_pipeline(\n",
    "        preprocessor,\n",
    "        XGBRegressor(**best_params)\n",
    "    )\n",
    "\n",
    "    xgb_pipeline.fit(X_train, y_train)\n",
    "    \n",
    "    return xgb_pipeline, numericas\n",
    "\n",
    "if __name__ == '__main__':\n",
    "    model, numericas = load_and_train_model()\n",
    "    # Aqui você pode salvar o modelo usando pickle ou joblib, se desejar.\n"
   ]
  },
  {
   "cell_type": "code",
   "execution_count": 7,
   "metadata": {},
   "outputs": [
    {
     "data": {
      "text/plain": [
       "['area m²',\n",
       " 'Quartos',\n",
       " 'banheiros',\n",
       " 'vagas',\n",
       " 'condominio',\n",
       " 'latitude',\n",
       " 'longitude',\n",
       " 'quartos_por_m²',\n",
       " 'banheiros_por_quarto',\n",
       " 'IDH-Longevidade',\n",
       " 'IDH-Renda']"
      ]
     },
     "execution_count": 7,
     "metadata": {},
     "output_type": "execute_result"
    }
   ],
   "source": [
    "numericas"
   ]
  }
 ],
 "metadata": {
  "kernelspec": {
   "display_name": "Python 3",
   "language": "python",
   "name": "python3"
  },
  "language_info": {
   "codemirror_mode": {
    "name": "ipython",
    "version": 3
   },
   "file_extension": ".py",
   "mimetype": "text/x-python",
   "name": "python",
   "nbconvert_exporter": "python",
   "pygments_lexer": "ipython3",
   "version": "3.12.5"
  }
 },
 "nbformat": 4,
 "nbformat_minor": 2
}
